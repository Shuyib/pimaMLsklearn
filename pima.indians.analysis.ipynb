{
 "cells": [
  {
   "cell_type": "markdown",
   "metadata": {},
   "source": [
    "**Title:** Using various Machine Learning algorithms to get a best prediction accuracy in the Pima indians dataset.\n",
    "\n",
    "**Author:** Nyabuti Mainye\n",
    "\n",
    "**Date:** 5/6/2017"
   ]
  },
  {
   "cell_type": "markdown",
   "metadata": {},
   "source": [
    "\n",
    "### Introduction:\n",
    "\n",
    "**Predictive analytics** is the practice of extracting information from existing data sets in order to determine patterns and predict future outcomes and trends.<sup>[1](http://www.webopedia.com/TERM/P/predictive_analytics.html)</sup> <sup>[2](https://gist.github.com/themiwi/5064046/revisions)</sup> It has a variety of applications in healthcare, credit scoring, recommendation systems like online newspapers and understanding shopping trends of customers. <sup>[3](http://www.predictiveanalyticsworld.com/businessapplications.php) </sup> On the other hand, these applications are possible by drawing from statistical techniques such as predictive modeling, machine learning and data mining. <sup>[4](https://en.wikipedia.org/wiki/Predictive_analytics)</sup> The dataset i will be using is the pima indians dataset. Let's proceed to the next section.\n"
   ]
  },
  {
   "cell_type": "markdown",
   "metadata": {},
   "source": [
    "### Data:\n",
    "\n",
    "Pima indians are native americans living in now central and southern Arizona in the United States of America. <sup>[5](https://en.wikipedia.org/wiki/Pima_people)</sup> However, this dataset consists of females at least 21 years old of the Pima Indian heritage.<sup>[7](https://archive.ics.uci.edu/ml/datasets/Pima+Indians+Diabetes) </sup> Initially, it was used to forecast onset of diabetes mellitus *Smith et al. (1988)* using the ADAP learning algorithm.<sup>[8](https://www.ncbi.nlm.nih.gov/pmc/articles/PMC2245318/)</sup> Though in my analysis i will attempt to use machine learning algorithms instead of artifical neural networks that were used in the initial study."
   ]
  },
  {
   "cell_type": "markdown",
   "metadata": {},
   "source": [
    "### Exploratory Data analysis:"
   ]
  },
  {
   "cell_type": "markdown",
   "metadata": {},
   "source": [
    "### Inference:"
   ]
  },
  {
   "cell_type": "markdown",
   "metadata": {},
   "source": [
    "### Conclusion:"
   ]
  },
  {
   "cell_type": "markdown",
   "metadata": {},
   "source": [
    "### References\n",
    "\n",
    "1. http://www.webopedia.com/TERM/P/predictive_analytics.html retrieved on 02/06/17 at 11:07 A.M EAT\n",
    "2. https://gist.github.com/themiwi/5064046/revisions retrieved on 02/06/17 at 11:07 A.M EAT\n",
    "3. http://www.predictiveanalyticsworld.com/businessapplications.php retrieved on 02/06/17 at 11:07 A.M EAT\n",
    "4. https://en.wikipedia.org/wiki/Predictive_analytics retrieved on 02/06/17 at 11:07 A.M EAT\n",
    "5. Changing text colour https://stackoverflow.com/questions/19746350/how-does-one-change-color-in-markdown-cells-ipython-jupyter-notebook retrieved on 02/06/17 at 11:17 A.M EAT\n",
    "6. https://en.wikipedia.org/wiki/Pima_people retrieved on 06/06/17 at 10:53 A.M EAT\n",
    "7. https://archive.ics.uci.edu/ml/datasets/Pima+Indians+Diabetes retrieved on 06/06/17 at 11:01 A.M EAT\n",
    "8. Smith, J. W., Everhart, J. E., Dickson, W. C., Knowler, W. C., & Johannes, R. S. (1988). Using the ADAP Learning Algorithm to Forecast the Onset of Diabetes Mellitus. Proceedings of the Annual Symposium on Computer Application in Medical Care, 261–265.\n",
    "\n",
    "\n"
   ]
  },
  {
   "cell_type": "code",
   "execution_count": null,
   "metadata": {
    "collapsed": true
   },
   "outputs": [],
   "source": []
  }
 ],
 "metadata": {
  "anaconda-cloud": {},
  "kernelspec": {
   "display_name": "Python [conda env:py35]",
   "language": "python",
   "name": "conda-env-py35-py"
  },
  "language_info": {
   "codemirror_mode": {
    "name": "ipython",
    "version": 3
   },
   "file_extension": ".py",
   "mimetype": "text/x-python",
   "name": "python",
   "nbconvert_exporter": "python",
   "pygments_lexer": "ipython3",
   "version": "3.5.2"
  }
 },
 "nbformat": 4,
 "nbformat_minor": 1
}
